{
  "nbformat": 4,
  "nbformat_minor": 0,
  "metadata": {
    "colab": {
      "provenance": [],
      "authorship_tag": "ABX9TyNgO1IHRrS2nkZhi+iEZWY0",
      "include_colab_link": true
    },
    "kernelspec": {
      "name": "python3",
      "display_name": "Python 3"
    },
    "language_info": {
      "name": "python"
    }
  },
  "cells": [
    {
      "cell_type": "markdown",
      "metadata": {
        "id": "view-in-github",
        "colab_type": "text"
      },
      "source": [
        "<a href=\"https://colab.research.google.com/github/chaos1231107/pytorch-study/blob/main/pytorch_tutorial2.ipynb\" target=\"_parent\"><img src=\"https://colab.research.google.com/assets/colab-badge.svg\" alt=\"Open In Colab\"/></a>"
      ]
    },
    {
      "cell_type": "code",
      "execution_count": null,
      "metadata": {
        "id": "3BoMvTKxotMj"
      },
      "outputs": [],
      "source": [
        "from pathlib import Path\n",
        "import requests\n",
        "\n",
        "DATA_PATH = Path(\"data\")\n",
        "PATH = DATA_PATH / \"mnist\"\n",
        "\n",
        "PATH.mkdir(parents=True, exist_ok=True)\n",
        "\n",
        "URL = \"https://github.com/pytorch/tutorials/raw/main/_static/\"\n",
        "FILENAME = \"mnist.pkl.gz\"\n",
        "\n",
        "if not (PATH / FILENAME).exists():\n",
        "    content = requests.get(URL + FILENAME).content\n",
        "    (PATH / FILENAME).open(\"wb\").write(content)"
      ]
    },
    {
      "cell_type": "code",
      "source": [
        "import pickle\n",
        "import gzip\n",
        "\n",
        "with gzip.open((PATH / FILENAME).as_posix(), \"rb\") as f:\n",
        "        ((x_train, y_train), (x_valid, y_valid), _) = pickle.load(f, encoding=\"latin-1\")"
      ],
      "metadata": {
        "id": "LqXNnylNplk3"
      },
      "execution_count": null,
      "outputs": []
    },
    {
      "cell_type": "code",
      "source": [
        "import matplotlib.pyplot as plt\n",
        "import numpy as np\n",
        "plt.imshow(x_train[0].reshape((28,28)),cmap='gray')\n",
        "\n",
        "try:\n",
        "    import google.colab\n",
        "except ImportError:\n",
        "    plt.show()\n",
        "print(x_train.shape)"
      ],
      "metadata": {
        "colab": {
          "base_uri": "https://localhost:8080/",
          "height": 447
        },
        "id": "L1Vcyrw7qF6H",
        "outputId": "1e52c4e2-19b0-4746-9618-721ddd9a3805"
      },
      "execution_count": null,
      "outputs": [
        {
          "output_type": "stream",
          "name": "stdout",
          "text": [
            "(50000, 784)\n"
          ]
        },
        {
          "output_type": "display_data",
          "data": {
            "text/plain": [
              "<Figure size 640x480 with 1 Axes>"
            ],
            "image/png": "[encoded data removed]"
          },
          "metadata": {}
        }
      ]
    },
    {
      "cell_type": "code",
      "source": [
        "import torch\n",
        "\n",
        "x_train,y_train, x_valid, y_valid = map(torch.tensor, (x_train,y_train, x_valid, y_valid)\n",
        ")\n",
        "\n",
        "n, c = x_train.shape\n",
        "print(x_train, y_train)\n",
        "print(x_train.shape)\n",
        "print(y_train.min(), y_train.max())"
      ],
      "metadata": {
        "colab": {
          "base_uri": "https://localhost:8080/"
        },
        "id": "nvJaom1ZrQZN",
        "outputId": "8ed9d3ba-828f-43bd-c90e-6a079c0fc6c5"
      },
      "execution_count": null,
      "outputs": [
        {
          "output_type": "stream",
          "name": "stdout",
          "text": [
            "tensor([[0., 0., 0.,  ..., 0., 0., 0.],\n",
            "        [0., 0., 0.,  ..., 0., 0., 0.],\n",
            "        [0., 0., 0.,  ..., 0., 0., 0.],\n",
            "        ...,\n",
            "        [0., 0., 0.,  ..., 0., 0., 0.],\n",
            "        [0., 0., 0.,  ..., 0., 0., 0.],\n",
            "        [0., 0., 0.,  ..., 0., 0., 0.]]) tensor([5, 0, 4,  ..., 8, 4, 8])\n",
            "torch.Size([50000, 784])\n",
            "tensor(0) tensor(9)\n"
          ]
        }
      ]
    },
    {
      "cell_type": "code",
      "source": [
        "import math\n",
        "\n",
        "weights = torch.randn(784,10) / math.sqrt(784)\n",
        "weights.requires_grad_()\n",
        "bias = torch.zeros(10, requires_grad=True)"
      ],
      "metadata": {
        "id": "nGXz-khzquDm"
      },
      "execution_count": null,
      "outputs": []
    },
    {
      "cell_type": "code",
      "source": [
        "def log_softmax(x):\n",
        "    return x - x.exp().sum(-1).log().unsqueeze(-1)\n",
        "\n",
        "def model(xb):\n",
        "    return log_softmax(xb @ weights + bias)"
      ],
      "metadata": {
        "id": "9zCTEf3Fr8Ie"
      },
      "execution_count": null,
      "outputs": []
    },
    {
      "cell_type": "code",
      "source": [
        "bs = 64\n",
        "xb = x_train[0:bs]\n",
        "preds = model(xb)\n",
        "preds[0], preds.shape\n",
        "print(preds[0], preds.shape)"
      ],
      "metadata": {
        "colab": {
          "base_uri": "https://localhost:8080/"
        },
        "id": "lDlOUoC4sb0O",
        "outputId": "4fa7d15a-a38f-4142-cde9-e69a2a3ac373"
      },
      "execution_count": null,
      "outputs": [
        {
          "output_type": "stream",
          "name": "stdout",
          "text": [
            "tensor([-2.4299, -2.4315, -2.2769, -2.2642, -2.2997, -1.9770, -2.5964, -2.0768,\n",
            "        -2.4539, -2.3759], grad_fn=<SelectBackward0>) torch.Size([64, 10])\n"
          ]
        }
      ]
    },
    {
      "cell_type": "code",
      "source": [
        "def loss_func(input,target):\n",
        "    return -input[range(target.shape[0]), target].mean()\n"
      ],
      "metadata": {
        "id": "8bLNFFEZsef2"
      },
      "execution_count": null,
      "outputs": []
    },
    {
      "cell_type": "code",
      "source": [
        "yb = y_train[0:bs]\n",
        "print(loss_func(preds,yb))"
      ],
      "metadata": {
        "colab": {
          "base_uri": "https://localhost:8080/"
        },
        "id": "DVzxHnOwtJw_",
        "outputId": "d89ca1c0-373b-4769-e2a6-449e14e95e29"
      },
      "execution_count": null,
      "outputs": [
        {
          "output_type": "stream",
          "name": "stdout",
          "text": [
            "tensor(2.3145, grad_fn=<NegBackward0>)\n"
          ]
        }
      ]
    },
    {
      "cell_type": "code",
      "source": [
        "def accuracy(out,yb):\n",
        "    preds = torch.argmax(out,dim=1)\n",
        "    return (preds == yb).float().mean()"
      ],
      "metadata": {
        "id": "AATqOd-_tSDu"
      },
      "execution_count": null,
      "outputs": []
    },
    {
      "cell_type": "code",
      "source": [
        "print(accuracy(preds,yb))"
      ],
      "metadata": {
        "colab": {
          "base_uri": "https://localhost:8080/"
        },
        "id": "gzfIE-24tdte",
        "outputId": "1cf40f53-fc0e-4d68-a65e-4046692bf2aa"
      },
      "execution_count": null,
      "outputs": [
        {
          "output_type": "stream",
          "name": "stdout",
          "text": [
            "tensor(0.1250)\n"
          ]
        }
      ]
    },
    {
      "cell_type": "code",
      "source": [
        "from IPython.core.debugger import set_trace\n",
        "\n",
        "lr = 0.5\n",
        "epochs = 2\n",
        "for epoch in range(epochs):\n",
        "    for i in range((n-1) // bs + 1):\n",
        "\n",
        "        start_i = i * bs\n",
        "        end_i = start_i + bs\n",
        "        xb = x_train[start_i:end_i]\n",
        "        yb = y_train[start_i:end_i]\n",
        "        preds = model(xb)\n",
        "        loss = loss_func(preds,yb)\n",
        "\n",
        "        loss.backward()\n",
        "        with torch.no_grad():\n",
        "            weights -= weights.grad * lr\n",
        "            bias -= bias.grad * lr\n",
        "            weights.grad.zero_()\n",
        "            bias.grad.zero_()\n",
        "print(loss_func(model(xb),yb))"
      ],
      "metadata": {
        "colab": {
          "base_uri": "https://localhost:8080/"
        },
        "id": "fnnZqeUstkUo",
        "outputId": "4a7a0ce3-8169-45ea-ff02-43aee3444070"
      },
      "execution_count": null,
      "outputs": [
        {
          "output_type": "stream",
          "name": "stdout",
          "text": [
            "tensor(0.0777, grad_fn=<NegBackward0>)\n"
          ]
        }
      ]
    },
    {
      "cell_type": "code",
      "source": [
        "import torch.nn.functional as F\n",
        "loss_func = F.cross_entropy\n",
        "\n",
        "def model(xb):\n",
        "    return  xb @ weights + bias\n",
        "print(loss_func(model(xb),yb), accuracy(model(xb),yb))"
      ],
      "metadata": {
        "colab": {
          "base_uri": "https://localhost:8080/"
        },
        "id": "kuNBFLpRut31",
        "outputId": "99dbc536-24e1-4702-c2dc-bd508d07b55f"
      },
      "execution_count": null,
      "outputs": [
        {
          "output_type": "stream",
          "name": "stdout",
          "text": [
            "tensor(0.0777, grad_fn=<NllLossBackward0>) tensor(1.)\n"
          ]
        }
      ]
    },
    {
      "cell_type": "code",
      "source": [
        "from torch import nn\n",
        "\n",
        "class Mnist_Logistic(nn.Module):\n",
        "    def __init__(self):\n",
        "        super().__init__()\n",
        "        self.weights = nn.Parameter(torch.randn(784,10) / math.sqrt(784))\n",
        "        self.bias = nn.Parameter(torch.zeros(10))\n",
        "\n",
        "    def forward(self,xb):\n",
        "        return xb @ self.weights + self.bias\n",
        "\n",
        "model = Mnist_Logistic()\n",
        "print(loss_func(model(xb),yb))"
      ],
      "metadata": {
        "colab": {
          "base_uri": "https://localhost:8080/"
        },
        "id": "QogeoMSJvgyn",
        "outputId": "42d9d076-aced-4777-abad-e36466c5fa0a"
      },
      "execution_count": null,
      "outputs": [
        {
          "output_type": "stream",
          "name": "stdout",
          "text": [
            "tensor(2.2928, grad_fn=<NllLossBackward0>)\n"
          ]
        }
      ]
    },
    {
      "cell_type": "code",
      "source": [
        "def fit():\n",
        "    for epoch in range(epochs):\n",
        "        for i in range((n-1) // bs + 1):\n",
        "            start_i = i * bs\n",
        "            end_i = start_i + bs\n",
        "            xb = x_train[start_i:end_i]\n",
        "            yb = y_train[start_i:end_i]\n",
        "            preds = model(xb)\n",
        "            loss = loss_func(preds,yb)\n",
        "\n",
        "            loss.backward()\n",
        "            with torch.no_grad():\n",
        "                for p in model.parameters():\n",
        "                    p -= p.grad * lr\n",
        "                model.zero_grad()\n",
        "fit()\n",
        "\n",
        "print(loss_func(model(xb),yb))"
      ],
      "metadata": {
        "colab": {
          "base_uri": "https://localhost:8080/"
        },
        "id": "yxVOZdtUxCDO",
        "outputId": "ff3b1e97-5c3e-445e-a58b-2fca6ba357da"
      },
      "execution_count": null,
      "outputs": [
        {
          "output_type": "stream",
          "name": "stdout",
          "text": [
            "tensor(0.0815, grad_fn=<NllLossBackward0>)\n"
          ]
        }
      ]
    },
    {
      "cell_type": "code",
      "source": [
        "class Mnist_Logistic(nn.Module):\n",
        "    def __init__(self):\n",
        "        super().__init__()\n",
        "        self.lin = nn.Linear(784,10)\n",
        "    def forward(self,xb):\n",
        "        return self.lin(xb)\n",
        "\n",
        "model = Mnist_Logistic()\n",
        "fit()\n",
        "print(loss_func(model(xb),yb))"
      ],
      "metadata": {
        "colab": {
          "base_uri": "https://localhost:8080/"
        },
        "id": "XVwBvfXgx8Nu",
        "outputId": "e8ce02dd-b698-4cb1-ca6f-602b13ce1f7c"
      },
      "execution_count": null,
      "outputs": [
        {
          "output_type": "stream",
          "name": "stdout",
          "text": [
            "tensor(0.0811, grad_fn=<NllLossBackward0>)\n"
          ]
        }
      ]
    },
    {
      "cell_type": "code",
      "source": [
        "from torch import optim\n",
        "\n",
        "def get_model():\n",
        "    model = Mnist_Logistic()\n",
        "    return model,optim.SGD(model.parameters(),lr=lr)\n",
        "\n",
        "model, opt = get_model()\n",
        "print(loss_func(model(xb),yb))\n",
        "\n",
        "for epoch in range(epochs):\n",
        "    for i in range((n-1) // bs + 1):\n",
        "        start_i = i * bs\n",
        "        end_i = start_i + bs\n",
        "        xb = x_train[start_i:end_i]\n",
        "        yb = y_train[start_i:end_i]\n",
        "        pred = model(xb)\n",
        "        loss = loss_func(model(xb),yb)\n",
        "\n",
        "        loss.backward()\n",
        "        opt.step()\n",
        "        opt.zero_grad()\n",
        "\n",
        "print(loss_func(model(xb),yb))"
      ],
      "metadata": {
        "colab": {
          "base_uri": "https://localhost:8080/"
        },
        "id": "QPbvYagYycS2",
        "outputId": "30cee438-524a-4ba6-f915-710a6cd308f7"
      },
      "execution_count": null,
      "outputs": [
        {
          "output_type": "stream",
          "name": "stdout",
          "text": [
            "tensor(2.2998, grad_fn=<NllLossBackward0>)\n",
            "tensor(0.0824, grad_fn=<NllLossBackward0>)\n"
          ]
        }
      ]
    },
    {
      "cell_type": "code",
      "source": [
        "from torch.utils.data import TensorDataset\n",
        "\n",
        "train_ds = TensorDataset(x_train, y_train)\n",
        "xb = x_train[start_i:end_i]\n",
        "yb = y_train[start_i:end_i]\n",
        "\n",
        "xb,yb = train_ds[i*bs : i*bs+bs]\n",
        "\n",
        "model,opt = get_model()\n",
        "\n",
        "for epoch in range(epochs):\n",
        "    for i in range((n-1) // bs + 1):\n",
        "        xb,yb = train_ds[i*bs:i*bs+bs]\n",
        "        pred = model(xb)\n",
        "        loss = loss_func(pred,yb)\n",
        "\n",
        "        loss.backward()\n",
        "        opt.step()\n",
        "        opt.zero_grad()\n",
        "\n",
        "print(loss_func(model(xb),yb))"
      ],
      "metadata": {
        "id": "soX647ux6gLw",
        "colab": {
          "base_uri": "https://localhost:8080/"
        },
        "outputId": "a93d9998-e783-45a0-ca6e-5c3d34456004"
      },
      "execution_count": null,
      "outputs": [
        {
          "output_type": "stream",
          "name": "stdout",
          "text": [
            "tensor(0.0810, grad_fn=<NllLossBackward0>)\n"
          ]
        }
      ]
    },
    {
      "cell_type": "code",
      "source": [
        "from torch.utils.data import DataLoader\n",
        "\n",
        "train_ds = TensorDataset(x_train, y_train)\n",
        "train_dl = DataLoader(train_ds, batch_size=bs)\n",
        "\n",
        "for epoch in range(epochs):\n",
        "    for xb,yb in train_dl:\n",
        "        pred = model(xb)\n",
        "        loss = loss_func(pred,yb)\n",
        "\n",
        "        loss.backward()\n",
        "        opt.step()\n",
        "        opt.zero_grad()\n",
        "print(loss_func(model(xb),yb))"
      ],
      "metadata": {
        "colab": {
          "base_uri": "https://localhost:8080/"
        },
        "id": "WAyIN2yNr4zZ",
        "outputId": "d19c6ed7-7fe4-4e2c-b30e-f5fbeef828e3"
      },
      "execution_count": null,
      "outputs": [
        {
          "output_type": "stream",
          "name": "stdout",
          "text": [
            "tensor(0.0654, grad_fn=<NllLossBackward0>)\n"
          ]
        }
      ]
    },
    {
      "cell_type": "code",
      "source": [
        "train_ds = TensorDataset(x_train, y_train)\n",
        "train_dl = DataLoader(train_ds, batch_size=bs, shuffle=True)\n",
        "\n",
        "valid_ds = TensorDataset(x_valid, y_valid)\n",
        "valid_dl = DataLoader(valid_ds, batch_size=bs*2)\n",
        "\n",
        "model,opt = get_model()\n",
        "\n",
        "for epoch in range(epochs):\n",
        "    model.train()\n",
        "    for xb,yb in train_dl:\n",
        "        pred = model(xb)\n",
        "        loss = loss_func(pred,yb)\n",
        "\n",
        "        loss.backward()\n",
        "        opt.step()\n",
        "        opt.zero_grad()\n",
        "    model.eval()\n",
        "    with torch.no_grad():\n",
        "        valid_loss = sum(loss_func(model(xb),yb) for xb,yb in valid_dl)\n",
        "\n",
        "    print(epoch, valid_loss / len(valid_dl))\n"
      ],
      "metadata": {
        "colab": {
          "base_uri": "https://localhost:8080/"
        },
        "id": "APOFUuS0svTV",
        "outputId": "57449cdd-f0f5-4f6b-9fef-fd44b0604969"
      },
      "execution_count": null,
      "outputs": [
        {
          "output_type": "stream",
          "name": "stdout",
          "text": [
            "0 tensor(0.3474)\n",
            "1 tensor(0.2795)\n"
          ]
        }
      ]
    },
    {
      "cell_type": "code",
      "source": [
        "import numpy as np\n",
        "\n",
        "def loss_batch(model,loss_func,xb,yb,opt=None):\n",
        "    loss = loss_func(model(xb),yb)\n",
        "\n",
        "    if opt is not None:\n",
        "        loss.backward()\n",
        "        opt.step()\n",
        "        opt.zero_grad()\n",
        "\n",
        "    return loss.item(), len(xb)\n",
        "\n",
        "def fit(epochs,modes,loss_func,opt,train_dl,valid_dl):\n",
        "    for epoch in range(epochs):\n",
        "        for xb,yb in train_dl:\n",
        "            loss_batch(model, loss_func, xb, yb, opt)\n",
        "\n",
        "        model.eval()\n",
        "        with torch.no_grad():\n",
        "            losses, nums = zip(\n",
        "                *[loss_batch(model,loss_func,xb,yb) for xb,yb in valid_dl] #미니배치의 크기와 샘플수를 튜플로 묶어서 리스트생성, 언패킹\n",
        "            )\n",
        "        val_loss = np.sum(np.multiply(losses,nums)) / np.sum(nums)\n",
        "\n",
        "        print(epoch, val_loss)\n",
        "\n",
        "def get_data(train_ds,valid_ds,bs):\n",
        "    return (\n",
        "        DataLoader(train_ds, batch_size=bs, shuffle=True),\n",
        "        DataLoader(valid_ds, batch_size=bs*2),\n",
        "    )\n",
        "\n",
        "train_dl, valid_dl = get_data(train_ds, valid_ds, bs)\n",
        "model,opt = get_model()\n",
        "fit(epochs, model,loss_func, opt, train_dl, valid_dl)\n"
      ],
      "metadata": {
        "colab": {
          "base_uri": "https://localhost:8080/"
        },
        "id": "xpwFFoAfvIXd",
        "outputId": "98d6982b-0fe1-40f9-bb27-098400360a79"
      },
      "execution_count": null,
      "outputs": [
        {
          "output_type": "stream",
          "name": "stdout",
          "text": [
            "0 0.34745807973146436\n",
            "1 0.30785661758184435\n"
          ]
        }
      ]
    },
    {
      "cell_type": "code",
      "source": [
        "class Mnist_CNN(nn.Module):\n",
        "    def __init__(self):\n",
        "        super().__init__()\n",
        "        self.conv1 = nn.Conv2d(1,16, kernel_size=3, stride=2, padding=1)\n",
        "        self.conv2 = nn.Conv2d(16,16, kernel_size=3, stride=2, padding=1)\n",
        "        self.conv3 = nn.Conv2d(16,10, kernel_size=3, stride=2, padding=1)\n",
        "\n",
        "    def forward(self,xb):\n",
        "        xb = xb.view(-1,1,28,28)\n",
        "        xb = F.relu(self.conv1(xb))\n",
        "        xb = F.relu(self.conv2(xb))\n",
        "        xb = F.relu(self.conv3(xb))\n",
        "        xb = F.avg_pool2d(xb,4)\n",
        "        return xb.view(-1, xb.size(1))\n",
        "    lr = 0.1"
      ],
      "metadata": {
        "id": "nkCC85vVzefZ"
      },
      "execution_count": null,
      "outputs": []
    },
    {
      "cell_type": "code",
      "source": [
        "model = Mnist_CNN()\n",
        "opt = optim.SGD(model.parameters(), lr=lr, momentum=0.9)\n",
        "\n",
        "fit(epochs, model, loss_func, opt, train_dl, valid_dl)"
      ],
      "metadata": {
        "colab": {
          "base_uri": "https://localhost:8080/"
        },
        "id": "klnBV9Ak0Pl8",
        "outputId": "eb87dd4f-c409-42dc-db3b-17b18dc6b95c"
      },
      "execution_count": null,
      "outputs": [
        {
          "output_type": "stream",
          "name": "stdout",
          "text": [
            "0 0.7455485592842102\n",
            "1 0.6816397270202637\n"
          ]
        }
      ]
    },
    {
      "cell_type": "code",
      "source": [
        "class Lambda(nn.Module):\n",
        "    def __init__(self,func):\n",
        "        super().__init__()\n",
        "        self.func = func\n",
        "\n",
        "    def forward(self,x):\n",
        "        return self.func(x)\n",
        "\n",
        "    def preprocess(x):\n",
        "        return x.view(-1.1,28,28)"
      ],
      "metadata": {
        "id": "I1D2cjNH3iCn"
      },
      "execution_count": null,
      "outputs": []
    },
    {
      "cell_type": "code",
      "source": [
        "model = nn.Sequential(\n",
        "    Lambda(preprocess),\n",
        "\n",
        "\n",
        ")"
      ],
      "metadata": {
        "colab": {
          "base_uri": "https://localhost:8080/",
          "height": 232
        },
        "id": "Pff6qqHypH42",
        "outputId": "ff7c6b7c-c757-4772-ba05-d35fb03bc47a"
      },
      "execution_count": null,
      "outputs": [
        {
          "output_type": "error",
          "ename": "NameError",
          "evalue": "ignored",
          "traceback": [
            "\u001b[0;31m---------------------------------------------------------------------------\u001b[0m",
            "\u001b[0;31mNameError\u001b[0m                                 Traceback (most recent call last)",
            "\u001b[0;32m<ipython-input-26-9d4f31358499>\u001b[0m in \u001b[0;36m<cell line: 1>\u001b[0;34m()\u001b[0m\n\u001b[1;32m      1\u001b[0m model = nn.Sequential(\n\u001b[0;32m----> 2\u001b[0;31m     \u001b[0mLambda\u001b[0m\u001b[0;34m(\u001b[0m\u001b[0mpreprocess\u001b[0m\u001b[0;34m)\u001b[0m\u001b[0;34m,\u001b[0m\u001b[0;34m\u001b[0m\u001b[0;34m\u001b[0m\u001b[0m\n\u001b[0m\u001b[1;32m      3\u001b[0m \u001b[0;34m\u001b[0m\u001b[0m\n\u001b[1;32m      4\u001b[0m \u001b[0;34m\u001b[0m\u001b[0m\n\u001b[1;32m      5\u001b[0m )\n",
            "\u001b[0;31mNameError\u001b[0m: name 'preprocess' is not defined"
          ]
        }
      ]
    }
  ]
}